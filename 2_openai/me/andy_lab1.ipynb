{
 "cells": [
  {
   "cell_type": "code",
   "execution_count": 47,
   "metadata": {},
   "outputs": [],
   "source": [
    "import sendgrid \n",
    "import os\n",
    "\n",
    "from dotenv import load_dotenv\n",
    "from agents import Agent, Runner, trace, function_tool\n",
    "from IPython.display import Markdown, display\n",
    "\n",
    "from sendgrid.helpers.mail import Mail, Email, To, Content\n",
    "from typing import Dict\n"
   ]
  },
  {
   "cell_type": "code",
   "execution_count": 48,
   "metadata": {},
   "outputs": [
    {
     "data": {
      "text/plain": [
       "True"
      ]
     },
     "execution_count": 48,
     "metadata": {},
     "output_type": "execute_result"
    }
   ],
   "source": [
    "load_dotenv(override=True)"
   ]
  },
  {
   "cell_type": "code",
   "execution_count": 49,
   "metadata": {},
   "outputs": [],
   "source": [
    "@function_tool\n",
    "def send_email(subject: str, html_body: str) -> Dict[str, str]:\n",
    "    \"\"\" send and email with the given subject and convert to HTML body \"\"\"\n",
    "    print(\"sending_email...\")\n",
    "    print(f\"From: {os.environ.get('EMAIL_FROM')}\")\n",
    "    print(f\"To: trungnv184@gmail.com\")\n",
    "    print(f\"Subject: {subject}\")\n",
    "    \n",
    "    try:            \n",
    "        sg = sendgrid.SendGridAPIClient(api_key=os.environ.get(\"SENDGRID_API_KEY\"))\n",
    "        from_email = Email(os.environ.get(\"EMAIL_FROM\"))\n",
    "        to_email = To(\"trungnv184@gmail.com\")\n",
    "        content = Content(\"text/html\", html_body)\n",
    "        mail = Mail(from_email, to_email, subject, content) .get() # Remove .get()\n",
    "        \n",
    "        print(\"Attempting to send email...\")\n",
    "        response = sg.client.mail.send.post(request_body=mail)\n",
    "        print(f\"SendGrid Response Status Code: {response.status_code}\")\n",
    "        \n",
    "        if response.status_code == 202:\n",
    "            print(\"Email sent successfully\")\n",
    "            return {\"status\": \"success\"}\n",
    "        else:\n",
    "            error_msg = f\"Email sending failed with status code: {response.status_code}\"\n",
    "            print(error_msg)\n",
    "            return {\"status\": \"error\", \"message\": error_msg}\n",
    "            \n",
    "    except Exception as e:\n",
    "        error_msg = f\"Error sending email: {str(e)}\"\n",
    "        print(error_msg)        \n",
    "        return {\"status\": \"error\", \"message\": error_msg}"
   ]
  },
  {
   "cell_type": "code",
   "execution_count": 50,
   "metadata": {},
   "outputs": [],
   "source": [
    "# create the agent instance\n",
    "agent = Agent(\n",
    "    name=\"Andy\",\n",
    "    instructions=\"\"\"Please help me to create a learning plan for the next 3 months to become a great AI Agent.\n",
    "    For each week, please create a list of topics to learn and the resources to learn them.\n",
    "    For each resource please attach the link to the resource.\n",
    "    Use send_email tool to send the learning plan to the email address trungnv184@gmail.com with html format.\"\"\",\n",
    "    tools=[send_email],\n",
    "    model=\"gpt-4o-mini\"\n",
    ")\n"
   ]
  },
  {
   "cell_type": "code",
   "execution_count": 52,
   "metadata": {},
   "outputs": [
    {
     "name": "stdout",
     "output_type": "stream",
     "text": [
      "sending_email...\n",
      "From: andynguyenvn2023@gmail.com\n",
      "To: trungnv184@gmail.com\n",
      "Subject: 3-Month AI Learning Plan\n",
      "Attempting to send email...\n",
      "SendGrid Response Status Code: 202\n",
      "Email sent successfully\n"
     ]
    },
    {
     "data": {
      "text/markdown": [
       "The 3-month learning plan to become a great AI Agent has been successfully sent to your email at trungnv184@gmail.com. If you need any more assistance or adjustments to the plan, feel free to ask!"
      ],
      "text/plain": [
       "<IPython.core.display.Markdown object>"
      ]
     },
     "metadata": {},
     "output_type": "display_data"
    }
   ],
   "source": [
    "with trace(\"Create the learning plan\"):\n",
    "    result = await Runner.run(agent, \"Create a learning plan for the next 3 months to become a great AI Agent\")\n",
    "   # print(result.final_output)\n",
    "    display(Markdown(result.final_output))\n"
   ]
  },
  {
   "cell_type": "code",
   "execution_count": 3,
   "metadata": {},
   "outputs": [],
   "source": []
  }
 ],
 "metadata": {
  "kernelspec": {
   "display_name": ".venv",
   "language": "python",
   "name": "python3"
  },
  "language_info": {
   "codemirror_mode": {
    "name": "ipython",
    "version": 3
   },
   "file_extension": ".py",
   "mimetype": "text/x-python",
   "name": "python",
   "nbconvert_exporter": "python",
   "pygments_lexer": "ipython3",
   "version": "3.12.10"
  }
 },
 "nbformat": 4,
 "nbformat_minor": 2
}
